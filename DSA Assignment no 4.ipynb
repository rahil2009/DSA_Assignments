{
 "cells": [
  {
   "cell_type": "markdown",
   "id": "595c71cd",
   "metadata": {},
   "source": [
    "<aside>\n",
    "💡 **Question 1**\n",
    "Given three integer arrays arr1, arr2 and arr3 **sorted** in **strictly increasing** order, return a sorted array of **only** the integers that appeared in **all** three arrays.\n",
    "\n",
    "**Example 1:**\n",
    "\n",
    "Input: arr1 = [1,2,3,4,5], arr2 = [1,2,5,7,9], arr3 = [1,3,4,5,8]\n",
    "\n",
    "Output: [1,5]\n",
    "\n",
    "**Explanation:** Only 1 and 5 appeared in the three arrays.\n",
    "\n",
    "</aside>"
   ]
  },
  {
   "cell_type": "code",
   "execution_count": 1,
   "id": "827e9f43",
   "metadata": {},
   "outputs": [
    {
     "name": "stdout",
     "output_type": "stream",
     "text": [
      "[1, 5]\n"
     ]
    }
   ],
   "source": [
    "def findCommonElements(arr1, arr2, arr3):\n",
    "    p1, p2, p3 = 0, 0, 0\n",
    "    result = []\n",
    "\n",
    "    while p1 < len(arr1) and p2 < len(arr2) and p3 < len(arr3):\n",
    "        if arr1[p1] == arr2[p2] == arr3[p3]:\n",
    "            result.append(arr1[p1])\n",
    "            p1 += 1\n",
    "            p2 += 1\n",
    "            p3 += 1\n",
    "        elif arr1[p1] <= arr2[p2] and arr1[p1] <= arr3[p3]:\n",
    "            p1 += 1\n",
    "        elif arr2[p2] <= arr1[p1] and arr2[p2] <= arr3[p3]:\n",
    "            p2 += 1\n",
    "        else:\n",
    "            p3 += 1\n",
    "\n",
    "    return result\n",
    "arr1 = [1,2,3,4,5]\n",
    "arr2 = [1,2,5,7,9]\n",
    "arr3 = [1,3,4,5,8]\n",
    "\n",
    "result = findCommonElements(arr1, arr2, arr3)\n",
    "print(result)\n",
    "# Output: [1, 5]\n"
   ]
  },
  {
   "cell_type": "markdown",
   "id": "58a6203c",
   "metadata": {},
   "source": [
    "💡 **Question 2**\n",
    "\n",
    "Given two **0-indexed** integer arrays nums1 and nums2, return *a list* answer *of size* 2 *where:*\n",
    "\n",
    "- answer[0] *is a list of all **distinct** integers in* nums1 *which are **not** present in* nums2*.*\n",
    "- answer[1] *is a list of all **distinct** integers in* nums2 *which are **not** present in* nums1.\n",
    "\n",
    "**Note** that the integers in the lists may be returned in **any** order.\n",
    "\n",
    "**Example 1:**\n",
    "\n",
    "**Input:** nums1 = [1,2,3], nums2 = [2,4,6]\n",
    "\n",
    "**Output:** [[1,3],[4,6]]\n",
    "\n",
    "**Explanation:**\n",
    "\n",
    "For nums1, nums1[1] = 2 is present at index 0 of nums2, whereas nums1[0] = 1 and nums1[2] = 3 are not present in nums2. Therefore, answer[0] = [1,3].\n",
    "\n",
    "For nums2, nums2[0] = 2 is present at index 1 of nums1, whereas nums2[1] = 4 and nums2[2] = 6 are not present in nums2. Therefore, answer[1] = [4,6].\n",
    "\n",
    "</aside>"
   ]
  },
  {
   "cell_type": "code",
   "execution_count": 2,
   "id": "bb8703f8",
   "metadata": {},
   "outputs": [
    {
     "name": "stdout",
     "output_type": "stream",
     "text": [
      "[[1, 3], [4, 6]]\n"
     ]
    }
   ],
   "source": [
    "def findDistinctIntegers(nums1, nums2):\n",
    "    set1 = set(nums1)\n",
    "    set2 = set(nums2)\n",
    "\n",
    "    result1 = set1 - set2\n",
    "    result2 = set2 - set1\n",
    "\n",
    "    return [list(result1), list(result2)]\n",
    "nums1 = [1, 2, 3]\n",
    "nums2 = [2, 4, 6]\n",
    "\n",
    "result = findDistinctIntegers(nums1, nums2)\n",
    "print(result)\n",
    "# Output: [[1, 3], [4, 6]]"
   ]
  },
  {
   "cell_type": "markdown",
   "id": "08f5dfe8",
   "metadata": {},
   "source": [
    "💡 **Question 3**\n",
    "Given a 2D integer array matrix, return *the **transpose** of* matrix.\n",
    "\n",
    "The **transpose** of a matrix is the matrix flipped over its main diagonal, switching the matrix's row and column indices.\n",
    "\n",
    "**Example 1:**\n",
    "\n",
    "Input: matrix = [[1,2,3],[4,5,6],[7,8,9]]\n",
    "\n",
    "Output: [[1,4,7],[2,5,8],[3,6,9]]\n",
    "\n",
    "</aside>"
   ]
  },
  {
   "cell_type": "code",
   "execution_count": 3,
   "id": "afb6b9ec",
   "metadata": {},
   "outputs": [
    {
     "name": "stdout",
     "output_type": "stream",
     "text": [
      "[[1, 4, 7], [2, 5, 8], [3, 6, 9]]\n"
     ]
    }
   ],
   "source": [
    "def transposeMatrix(matrix):\n",
    "    rows = len(matrix)\n",
    "    columns = len(matrix[0])\n",
    "    result = [[0] * rows for _ in range(columns)]\n",
    "\n",
    "    for row in range(rows):\n",
    "        for column in range(columns):\n",
    "            result[column][row] = matrix[row][column]\n",
    "\n",
    "    return result\n",
    "matrix = [[1, 2, 3], [4, 5, 6], [7, 8, 9]]\n",
    "\n",
    "result = transposeMatrix(matrix)\n",
    "print(result)\n",
    "\n",
    "# Output: [[1, 4, 7], [2, 5, 8], [3, 6, 9]]"
   ]
  },
  {
   "cell_type": "markdown",
   "id": "a882e226",
   "metadata": {},
   "source": [
    "💡 **Question 4**\n",
    "Given an integer array nums of 2n integers, group these integers into n pairs (a1, b1), (a2, b2), ..., (an, bn) such that the sum of min(ai, bi) for all i is **maximized**. Return *the maximized sum*.\n",
    "\n",
    "**Example 1:**\n",
    "\n",
    "Input: nums = [1,4,3,2]\n",
    "\n",
    "Output: 4\n",
    "\n",
    "**Explanation:** All possible pairings (ignoring the ordering of elements) are:\n",
    "\n",
    "1. (1, 4), (2, 3) -> min(1, 4) + min(2, 3) = 1 + 2 = 3\n",
    "\n",
    "2. (1, 3), (2, 4) -> min(1, 3) + min(2, 4) = 1 + 2 = 3\n",
    "\n",
    "3. (1, 2), (3, 4) -> min(1, 2) + min(3, 4) = 1 + 3 = 4\n",
    "\n",
    "So the maximum possible sum is 4."
   ]
  },
  {
   "cell_type": "code",
   "execution_count": 4,
   "id": "b34bb907",
   "metadata": {},
   "outputs": [
    {
     "name": "stdout",
     "output_type": "stream",
     "text": [
      "4\n"
     ]
    }
   ],
   "source": [
    "def arrayPairSum(nums):\n",
    "    nums.sort()\n",
    "    max_sum = 0\n",
    "\n",
    "    for i in range(0, len(nums), 2):\n",
    "        max_sum += nums[i]\n",
    "\n",
    "    return max_sum\n",
    "nums = [1, 4, 3, 2]\n",
    "\n",
    "result = arrayPairSum(nums)\n",
    "print(result)\n",
    "# Output: 4"
   ]
  },
  {
   "cell_type": "markdown",
   "id": "3b08ac9b",
   "metadata": {},
   "source": [
    "💡 **Question 5**\n",
    "You have n coins and you want to build a staircase with these coins. The staircase consists of k rows where the ith row has exactly i coins. The last row of the staircase **may be** incomplete.\n",
    "\n",
    "Given the integer n, return *the number of **complete rows** of the staircase you will build*.\n",
    "\n",
    "**Example 1:**"
   ]
  },
  {
   "cell_type": "code",
   "execution_count": 5,
   "id": "bca67aad",
   "metadata": {},
   "outputs": [
    {
     "name": "stdout",
     "output_type": "stream",
     "text": [
      "2\n"
     ]
    }
   ],
   "source": [
    "def arrangeCoins(n):\n",
    "    left = 1\n",
    "    right = n\n",
    "\n",
    "    while left <= right:\n",
    "        mid = (left + right) // 2\n",
    "        total_coins = (mid * (mid + 1)) // 2\n",
    "\n",
    "        if total_coins == n:\n",
    "            return mid\n",
    "        elif total_coins > n:\n",
    "            right = mid - 1\n",
    "        else:\n",
    "            left = mid + 1\n",
    "\n",
    "    return right\n",
    "\n",
    "n = 5\n",
    "\n",
    "result = arrangeCoins(n)\n",
    "print(result)\n",
    "# Output: 2"
   ]
  },
  {
   "cell_type": "markdown",
   "id": "d2c6202e",
   "metadata": {},
   "source": [
    "💡 **Question 6**\n",
    "Given an integer array nums sorted in **non-decreasing** order, return *an array of **the squares of each number** sorted in non-decreasing order*.\n",
    "\n",
    "**Example 1:**\n",
    "\n",
    "Input: nums = [-4,-1,0,3,10]\n",
    "\n",
    "Output: [0,1,9,16,100]\n",
    "\n",
    "**Explanation:** After squaring, the array becomes [16,1,0,9,100].\n",
    "After sorting, it becomes [0,1,9,16,100]"
   ]
  },
  {
   "cell_type": "code",
   "execution_count": 6,
   "id": "b9848c0c",
   "metadata": {},
   "outputs": [
    {
     "name": "stdout",
     "output_type": "stream",
     "text": [
      "[100, 16, 9, 1, 0, 0, 9, 100, 1, 16]\n"
     ]
    }
   ],
   "source": [
    "def sortedSquares(nums):\n",
    "    left = 0\n",
    "    right = len(nums) - 1\n",
    "    squares = []\n",
    "\n",
    "    while left <= right:\n",
    "        left_square = nums[left] * nums[left]\n",
    "        right_square = nums[right] * nums[right]\n",
    "\n",
    "        if left_square > right_square:\n",
    "            squares.insert(0, left_square)\n",
    "            left += 1\n",
    "        else:\n",
    "            squares.insert(0, right_square)\n",
    "            right -= 1\n",
    "\n",
    "    while left < len(nums):\n",
    "        squares.insert(0, nums[left] * nums[left])\n",
    "        left += 1\n",
    "\n",
    "    while right >= 0:\n",
    "        squares.insert(0, nums[right] * nums[right])\n",
    "        right -= 1\n",
    "\n",
    "    return squares[::-1]\n",
    "nums = [-4, -1, 0, 3, 10]\n",
    "\n",
    "result = sortedSquares(nums)\n",
    "print(result)\n",
    "# Output: [0, 1, 9, 16, 100]"
   ]
  },
  {
   "cell_type": "markdown",
   "id": "70040d59",
   "metadata": {},
   "source": [
    "💡 **Question 7**\n",
    "You are given an m x n matrix M initialized with all 0's and an array of operations ops, where ops[i] = [ai, bi] means M[x][y] should be incremented by one for all 0 <= x < ai and 0 <= y < bi.\n",
    "\n",
    "Count and return *the number of maximum integers in the matrix after performing all the operations*\n",
    "\n",
    "**Example 1:**"
   ]
  },
  {
   "cell_type": "code",
   "execution_count": 7,
   "id": "44bca421",
   "metadata": {},
   "outputs": [
    {
     "name": "stdout",
     "output_type": "stream",
     "text": [
      "4\n"
     ]
    }
   ],
   "source": [
    "def maxCount(m, n, ops):\n",
    "    min_row = m\n",
    "    min_col = n\n",
    "\n",
    "    for operation in ops:\n",
    "        min_row = min(min_row, operation[0])\n",
    "        min_col = min(min_col, operation[1])\n",
    "\n",
    "    return min_row * min_col\n",
    "m = 3\n",
    "n = 3\n",
    "ops = [[2, 2], [3, 3]]\n",
    "\n",
    "result = maxCount(m, n, ops)\n",
    "print(result)\n",
    "# Output: 4"
   ]
  },
  {
   "cell_type": "markdown",
   "id": "0b3e5cf1",
   "metadata": {},
   "source": [
    "💡 **Question 8**\n",
    "\n",
    "Given the array nums consisting of 2n elements in the form [x1,x2,...,xn,y1,y2,...,yn].\n",
    "\n",
    "*Return the array in the form* [x1,y1,x2,y2,...,xn,yn].\n",
    "\n",
    "**Example 1:**\n",
    "\n",
    "**Input:** nums = [2,5,1,3,4,7], n = 3\n",
    "\n",
    "**Output:** [2,3,5,4,1,7]\n",
    "\n",
    "**Explanation:** Since x1=2, x2=5, x3=1, y1=3, y2=4, y3=7 then the answer is [2,3,5,4,1,7]."
   ]
  },
  {
   "cell_type": "code",
   "execution_count": 8,
   "id": "6b318b1c",
   "metadata": {},
   "outputs": [
    {
     "name": "stdout",
     "output_type": "stream",
     "text": [
      "[2, 3, 5, 4, 1, 7]\n"
     ]
    }
   ],
   "source": [
    "def shuffle(nums, n):\n",
    "    result = []\n",
    "\n",
    "    for i in range(n):\n",
    "        result.append(nums[i])\n",
    "        result.append(nums[i + n])\n",
    "\n",
    "    return result\n",
    "nums = [2, 5, 1, 3, 4, 7]\n",
    "n = 3\n",
    "\n",
    "result = shuffle(nums, n)\n",
    "print(result)\n",
    "# Output: [2, 3, 5, 4, 1, 7]"
   ]
  },
  {
   "cell_type": "code",
   "execution_count": null,
   "id": "80cb97c6",
   "metadata": {},
   "outputs": [],
   "source": []
  },
  {
   "cell_type": "code",
   "execution_count": null,
   "id": "3d9c7fa1",
   "metadata": {},
   "outputs": [],
   "source": []
  },
  {
   "cell_type": "code",
   "execution_count": null,
   "id": "c8e5966a",
   "metadata": {},
   "outputs": [],
   "source": []
  },
  {
   "cell_type": "code",
   "execution_count": null,
   "id": "e51b7466",
   "metadata": {},
   "outputs": [],
   "source": []
  },
  {
   "cell_type": "code",
   "execution_count": null,
   "id": "12473311",
   "metadata": {},
   "outputs": [],
   "source": []
  },
  {
   "cell_type": "code",
   "execution_count": null,
   "id": "043f5590",
   "metadata": {},
   "outputs": [],
   "source": []
  },
  {
   "cell_type": "code",
   "execution_count": null,
   "id": "c42d9301",
   "metadata": {},
   "outputs": [],
   "source": []
  },
  {
   "cell_type": "code",
   "execution_count": null,
   "id": "e4c1af64",
   "metadata": {},
   "outputs": [],
   "source": []
  },
  {
   "cell_type": "code",
   "execution_count": null,
   "id": "8e1d4ee3",
   "metadata": {},
   "outputs": [],
   "source": []
  },
  {
   "cell_type": "code",
   "execution_count": null,
   "id": "0cbbf6ce",
   "metadata": {},
   "outputs": [],
   "source": []
  },
  {
   "cell_type": "code",
   "execution_count": null,
   "id": "0026f880",
   "metadata": {},
   "outputs": [],
   "source": []
  },
  {
   "cell_type": "code",
   "execution_count": null,
   "id": "f042757d",
   "metadata": {},
   "outputs": [],
   "source": []
  },
  {
   "cell_type": "code",
   "execution_count": null,
   "id": "79283d90",
   "metadata": {},
   "outputs": [],
   "source": []
  },
  {
   "cell_type": "code",
   "execution_count": null,
   "id": "a65a4e11",
   "metadata": {},
   "outputs": [],
   "source": []
  },
  {
   "cell_type": "code",
   "execution_count": null,
   "id": "4170ce9b",
   "metadata": {},
   "outputs": [],
   "source": [
    "    "
   ]
  }
 ],
 "metadata": {
  "kernelspec": {
   "display_name": "Python 3 (ipykernel)",
   "language": "python",
   "name": "python3"
  },
  "language_info": {
   "codemirror_mode": {
    "name": "ipython",
    "version": 3
   },
   "file_extension": ".py",
   "mimetype": "text/x-python",
   "name": "python",
   "nbconvert_exporter": "python",
   "pygments_lexer": "ipython3",
   "version": "3.9.12"
  }
 },
 "nbformat": 4,
 "nbformat_minor": 5
}
